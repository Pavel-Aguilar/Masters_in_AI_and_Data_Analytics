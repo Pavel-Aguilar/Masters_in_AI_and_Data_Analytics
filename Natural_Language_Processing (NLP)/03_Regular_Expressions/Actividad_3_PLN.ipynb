{
  "nbformat": 4,
  "nbformat_minor": 0,
  "metadata": {
    "colab": {
      "provenance": [],
      "collapsed_sections": [
        "_Gbq0sFdFlKD",
        "ahBXu3tyF9fM",
        "gOdLVQ7oIa4A",
        "fqhLIf7RI9Mo",
        "NljcJHX4JMi8",
        "JjpCYZ3RJk0X",
        "htF4lzz7JxC6",
        "7xhAxNI_NLc3",
        "3QaWl0nMN2MX",
        "M40msNyeOKTL",
        "qcvufldIROka",
        "kMOV-hPXTpW-"
      ]
    },
    "kernelspec": {
      "name": "python3",
      "display_name": "Python 3"
    },
    "language_info": {
      "name": "python"
    }
  },
  "cells": [
    {
      "cell_type": "code",
      "source": [
        "'''\n",
        "Actividad 3: Ejercicio de expresiones regulares\n",
        "Objetivo de la actividad\n",
        "El estudiante usa los diferentes comandos y reconoce los patrones revisados en clase a fin\n",
        "de encontrar las expresiones regulares a un texto real en un entorno de desarrollo integrado\n",
        "en línea.\n",
        "Instrucciones\n",
        "Trabajando en la nube con Google Colab o localmente en tu equipo de cómputo, considera\n",
        "los siguientes párrafos y crea en un código de programación en Python las expresiones\n",
        "regulares adecuadas para las siguientes actividades. Identifica en tu código el número de la\n",
        "actividad desarrollada. No olvides instalar las librerías adecuadas (en caso de ser\n",
        "necesario).\n",
        "El 10 de agosto de 2025, María Pérez envió un correo electrónico a la dirección\n",
        "maria.perez@email.com solicitando información sobre el producto X-200. Su\n",
        "número de teléfono es +34 612-345-678. Además, visitó la web\n",
        "https://www.ejemplo.com para consultar precios y disponibilidad.\n",
        "El servidor registró el acceso desde la IP 192.168.1.15 a las 14:23:56, y se detectó un\n",
        "error en el log con código ERR500. En Twitter, el usuario @DataAnalyst comentó: \"Los\n",
        "modelos de IA son el futuro #MachineLearning #IA2025\". El totaal de la compra fue\n",
        "de $199.99, y el cliente pagó con tarjeta VISA terminada en 1234.\n",
        "Por otro lado, el DNI de Juan García es 12345678Z y su código postal 28080. Para más\n",
        "información, puede llamar al 911 234 567 o visitar www.informacion.es. Recordamos\n",
        "que las feechas límite para inscripción son 2025-09-30 y 2025-10-15.\n",
        "1. Extraer todas las direcciones de correo electrónico.\n",
        "2. Extraer todas las URLs (con o sin protocolo).\n",
        "3. Validar y extraer números de teléfono en formato internacional y nacional.\n",
        "4. Extraer fechas en formato yyyy-MM-dd.\n",
        "5. Extraer códigos postales de 5 dígitos.\n",
        "6. Extraer DNI (8 dígitos seguidos de letra mayúscula).\n",
        "7. Extraer menciones de Twitter.\n",
        "8. Extraer hashtags.\n",
        "9. Extraer direcciones IP.\n",
        "10. Extraer importes monetarios (con $ y decimales).\n",
        "11. Eliminar letras repetidas.\n",
        "Formato de entrega:\n",
        "La entrega correspondiente deberá hacerse en archivo PDF. Incluya el código\n",
        "correspondiente que da solución a cada ejercicio, así como la captura de pantalla de la\n",
        "ejecución de cada uno de ellos en el ambiente elegido (en la nube o local). El documento\n",
        "PDF deberá incluir la liga (URL) de Google Colab para tener acceso a su notebook o en su\n",
        "defecto si se desarrolló de manera local, deberá adjuntar el código en archivo(s) .py. Deberá\n",
        "subir un único archivo en formato ZIP.'''"
      ],
      "metadata": {
        "id": "opn06lTifdGf"
      },
      "execution_count": null,
      "outputs": []
    },
    {
      "cell_type": "code",
      "source": [
        "import re"
      ],
      "metadata": {
        "id": "rPLl0ebrEnxN"
      },
      "execution_count": null,
      "outputs": []
    },
    {
      "cell_type": "markdown",
      "source": [
        "#TEXTO"
      ],
      "metadata": {
        "id": "aWRowXNdEffG"
      }
    },
    {
      "cell_type": "code",
      "execution_count": null,
      "metadata": {
        "id": "bR30bQAkEJ4x"
      },
      "outputs": [],
      "source": [
        "texto='''\n",
        "El 10 de agosto de 2025, María Pérez envió un correo electrónico a la dirección\n",
        "maria.perez@email.com solicitando información sobre el producto X-200. Su\n",
        "número de teléfono es +34 612-345-678. Además, visitó la web\n",
        "https://www.ejemplo.com para consultar precios y disponibilidad.\n",
        "El servidor registró el acceso desde la IP 192.168.1.15 a las 14:23:56, y se detectó un\n",
        "error en el log con código ERR500. En Twitter, el usuario @DataAnalyst comentó: \"Los\n",
        "modelos de IA son el futuro #MachineLearning #IA2025\". El totaal de la compra fue\n",
        "de $199.99, y el cliente pagó con tarjeta VISA terminada en 1234.\n",
        "Por otro lado, el DNI de Juan García es 12345678Z y su código postal 28080. Para más\n",
        "información, puede llamar al 911 234 567 o visitar www.informacion.es. Recordamos\n",
        "que las feechas límite para inscripción son 2025-09-30 y 2025-10-15.\n",
        "'''\n"
      ]
    },
    {
      "cell_type": "markdown",
      "source": [
        "##1. Extraer todas las direcciones de correo electrónico."
      ],
      "metadata": {
        "id": "_Gbq0sFdFlKD"
      }
    },
    {
      "cell_type": "code",
      "source": [
        "corr = re.findall(r'[a-zA-Z0-9._%+-]+@[a-zA-Z0-9.-]+\\.[a-zA-Z]{2,}', texto)\n",
        "print(corr)"
      ],
      "metadata": {
        "colab": {
          "base_uri": "https://localhost:8080/"
        },
        "id": "DCL-UGBvEyr7",
        "outputId": "95ccc731-58d3-4d0a-dd7a-86df2b1c2768"
      },
      "execution_count": null,
      "outputs": [
        {
          "output_type": "stream",
          "name": "stdout",
          "text": [
            "['maria.perez@email.com']\n"
          ]
        }
      ]
    },
    {
      "cell_type": "markdown",
      "source": [
        "##2. Extraer todas las URLs (con o sin protocolo)."
      ],
      "metadata": {
        "id": "ahBXu3tyF9fM"
      }
    },
    {
      "cell_type": "code",
      "source": [
        "urls = re.findall(r'(https?://|www\\.)[a-zA-Z0-9.-]+\\.[a-zA-Z]{2,}[/\\w.-]*', texto)\n",
        "print(urls)"
      ],
      "metadata": {
        "colab": {
          "base_uri": "https://localhost:8080/"
        },
        "id": "9ITULpmvFuq-",
        "outputId": "b4a47f86-cdf2-4c96-8684-888d1bd0653b"
      },
      "execution_count": null,
      "outputs": [
        {
          "output_type": "stream",
          "name": "stdout",
          "text": [
            "['https://', 'www.']\n"
          ]
        }
      ]
    },
    {
      "cell_type": "markdown",
      "source": [
        "##3. Validar y extraer números de teléfono en formato internacional y nacional."
      ],
      "metadata": {
        "id": "gOdLVQ7oIa4A"
      }
    },
    {
      "cell_type": "code",
      "source": [
        "telefonos = re.findall(r'(\\+\\d{2}\\s\\d{3}-\\d{3}-\\d{3})|(\\d{3}\\s\\d{3}\\s\\d{3})', texto)\n",
        "telefonos_limpios = [t[0] or t[1] for t in telefonos]\n",
        "print(telefonos_limpios)"
      ],
      "metadata": {
        "colab": {
          "base_uri": "https://localhost:8080/"
        },
        "id": "fPxt3cUzImFd",
        "outputId": "0ec2bba4-14a1-40e6-9da8-86f2c51b9cb2"
      },
      "execution_count": null,
      "outputs": [
        {
          "output_type": "stream",
          "name": "stdout",
          "text": [
            "['+34 612-345-678', '911 234 567']\n"
          ]
        }
      ]
    },
    {
      "cell_type": "markdown",
      "source": [
        "##4. Extraer fechas en formato yyyy-MM.dd."
      ],
      "metadata": {
        "id": "fqhLIf7RI9Mo"
      }
    },
    {
      "cell_type": "code",
      "source": [
        "fechas = re.findall(r'\\d{4}-\\d{2}-\\d{2}', texto)\n",
        "print(fechas)"
      ],
      "metadata": {
        "colab": {
          "base_uri": "https://localhost:8080/"
        },
        "id": "HyQpC66SJGIc",
        "outputId": "5aadaea5-7eae-4dfa-ad97-1e75e0058b89"
      },
      "execution_count": null,
      "outputs": [
        {
          "output_type": "stream",
          "name": "stdout",
          "text": [
            "['2025-09-30', '2025-10-15']\n"
          ]
        }
      ]
    },
    {
      "cell_type": "markdown",
      "source": [
        "## 5. Extraer codigos postales de 5 dígitos."
      ],
      "metadata": {
        "id": "NljcJHX4JMi8"
      }
    },
    {
      "cell_type": "code",
      "source": [
        "codigos_postales = re.findall(r'\\b\\d{5}\\b', texto)\n",
        "print(codigos_postales)"
      ],
      "metadata": {
        "colab": {
          "base_uri": "https://localhost:8080/"
        },
        "id": "USr2lQFPJSdz",
        "outputId": "2f2d85e6-d2f5-4f10-f107-8fe196d057f1"
      },
      "execution_count": null,
      "outputs": [
        {
          "output_type": "stream",
          "name": "stdout",
          "text": [
            "['28080']\n"
          ]
        }
      ]
    },
    {
      "cell_type": "markdown",
      "source": [
        "## 6. Extraer DNI (8 dígitos seguidos de letra mayúscula)"
      ],
      "metadata": {
        "id": "JjpCYZ3RJk0X"
      }
    },
    {
      "cell_type": "code",
      "source": [
        "dnis = re.findall(r'\\b\\d{8}[A-Z]\\b', texto)\n",
        "print(dnis)"
      ],
      "metadata": {
        "colab": {
          "base_uri": "https://localhost:8080/"
        },
        "id": "qE6YMDsaJ9hc",
        "outputId": "2acf085a-1828-44cb-e4d1-1e18346c9bf1"
      },
      "execution_count": null,
      "outputs": [
        {
          "output_type": "stream",
          "name": "stdout",
          "text": [
            "['12345678Z']\n"
          ]
        }
      ]
    },
    {
      "cell_type": "markdown",
      "source": [
        "## 7. Extraer menciones de Twitter."
      ],
      "metadata": {
        "id": "htF4lzz7JxC6"
      }
    },
    {
      "cell_type": "code",
      "source": [
        "menciones = re.findall(r'(?<!\\S)@[A-Za-z0-9_]+', texto)\n",
        "print(menciones)"
      ],
      "metadata": {
        "colab": {
          "base_uri": "https://localhost:8080/"
        },
        "id": "ZzFw2Me1K43v",
        "outputId": "33297650-0874-4dd4-83cb-b05046cc6fc0"
      },
      "execution_count": null,
      "outputs": [
        {
          "output_type": "stream",
          "name": "stdout",
          "text": [
            "['@DataAnalyst']\n"
          ]
        }
      ]
    },
    {
      "cell_type": "markdown",
      "source": [
        "## 8. Extraer Hashtags."
      ],
      "metadata": {
        "id": "7xhAxNI_NLc3"
      }
    },
    {
      "cell_type": "code",
      "source": [
        "hashtags = re.findall(r'#[A-Za-z0-9_]+', texto)\n",
        "print(hashtags)"
      ],
      "metadata": {
        "colab": {
          "base_uri": "https://localhost:8080/"
        },
        "id": "XNIu5vnRNtgc",
        "outputId": "6515cc82-e398-4c97-da4c-ced548525ad7"
      },
      "execution_count": null,
      "outputs": [
        {
          "output_type": "stream",
          "name": "stdout",
          "text": [
            "['#MachineLearning', '#IA2025']\n"
          ]
        }
      ]
    },
    {
      "cell_type": "markdown",
      "source": [
        "##9. Extraer direcciones IP."
      ],
      "metadata": {
        "id": "3QaWl0nMN2MX"
      }
    },
    {
      "cell_type": "code",
      "source": [
        "dirips = re.findall(r'\\b\\d{1,3}\\.\\d{1,3}\\.\\d{1,3}\\.\\d{1,3}\\b', texto)\n",
        "print(dirips)"
      ],
      "metadata": {
        "colab": {
          "base_uri": "https://localhost:8080/"
        },
        "id": "Y7O-DJ_TN2iA",
        "outputId": "f32086d3-6099-4160-ca49-4c83fa65ad76"
      },
      "execution_count": null,
      "outputs": [
        {
          "output_type": "stream",
          "name": "stdout",
          "text": [
            "['192.168.1.15']\n"
          ]
        }
      ]
    },
    {
      "cell_type": "markdown",
      "source": [
        "##10. Extraer importes monetarios (con $ y decimales)"
      ],
      "metadata": {
        "id": "M40msNyeOKTL"
      }
    },
    {
      "cell_type": "code",
      "source": [
        "importes = re.findall(r'\\$\\d+\\.\\d{2}', texto)\n",
        "print(importes)"
      ],
      "metadata": {
        "colab": {
          "base_uri": "https://localhost:8080/"
        },
        "id": "ZW4tPH3uOSEZ",
        "outputId": "bb98e33f-4065-42ee-8136-fb438c208a14"
      },
      "execution_count": null,
      "outputs": [
        {
          "output_type": "stream",
          "name": "stdout",
          "text": [
            "['$199.99']\n"
          ]
        }
      ]
    },
    {
      "cell_type": "markdown",
      "source": [
        "##11a. Elimina letras repetidas (CUALQUIERA)"
      ],
      "metadata": {
        "id": "qcvufldIROka"
      }
    },
    {
      "cell_type": "code",
      "source": [
        "elim_rep = re.sub(r'([a-zA-Z])\\1+', r'\\1', texto)\n",
        "print(elim_rep)"
      ],
      "metadata": {
        "colab": {
          "base_uri": "https://localhost:8080/"
        },
        "id": "wZ-rhamISfjZ",
        "outputId": "40aa1359-a82d-42a0-cfc3-1fa05d823d05"
      },
      "execution_count": null,
      "outputs": [
        {
          "output_type": "stream",
          "name": "stdout",
          "text": [
            "\n",
            "El 10 de agosto de 2025, María Pérez envió un coreo electrónico a la direción\n",
            "maria.perez@email.com solicitando información sobre el producto X-200. Su\n",
            "número de teléfono es +34 612-345-678. Además, visitó la web\n",
            "htps://w.ejemplo.com para consultar precios y disponibilidad.\n",
            "El servidor registró el aceso desde la IP 192.168.1.15 a las 14:23:56, y se detectó un\n",
            "eror en el log con código ER500. En Twiter, el usuario @DataAnalyst comentó: \"Los\n",
            "modelos de IA son el futuro #MachineLearning #IA2025\". El total de la compra fue\n",
            "de $199.99, y el cliente pagó con tarjeta VISA terminada en 1234.\n",
            "Por otro lado, el DNI de Juan García es 12345678Z y su código postal 28080. Para más\n",
            "información, puede lamar al 911 234 567 o visitar w.informacion.es. Recordamos\n",
            "que las fechas límite para inscripción son 2025-09-30 y 2025-10-15.\n",
            "\n"
          ]
        }
      ]
    },
    {
      "cell_type": "markdown",
      "source": [
        "##11b. Elimina letras repetidas (Solo vocales para conservar el sentido del texto)"
      ],
      "metadata": {
        "id": "kMOV-hPXTpW-"
      }
    },
    {
      "cell_type": "code",
      "source": [
        "voc_rep = re.sub(r'([aeiouAEIOU])\\1+', r'\\1', texto)\n",
        "print(voc_rep)"
      ],
      "metadata": {
        "colab": {
          "base_uri": "https://localhost:8080/"
        },
        "id": "f5MduC5JUSwr",
        "outputId": "2321ac6b-b008-4ebe-9265-933df9401d22"
      },
      "execution_count": null,
      "outputs": [
        {
          "output_type": "stream",
          "name": "stdout",
          "text": [
            "\n",
            "El 10 de agosto de 2025, María Pérez envió un correo electrónico a la dirección\n",
            "maria.perez@email.com solicitando información sobre el producto X-200. Su\n",
            "número de teléfono es +34 612-345-678. Además, visitó la web\n",
            "https://www.ejemplo.com para consultar precios y disponibilidad.\n",
            "El servidor registró el acceso desde la IP 192.168.1.15 a las 14:23:56, y se detectó un\n",
            "error en el log con código ERR500. En Twitter, el usuario @DataAnalyst comentó: \"Los\n",
            "modelos de IA son el futuro #MachineLearning #IA2025\". El total de la compra fue\n",
            "de $199.99, y el cliente pagó con tarjeta VISA terminada en 1234.\n",
            "Por otro lado, el DNI de Juan García es 12345678Z y su código postal 28080. Para más\n",
            "información, puede llamar al 911 234 567 o visitar www.informacion.es. Recordamos\n",
            "que las fechas límite para inscripción son 2025-09-30 y 2025-10-15.\n",
            "\n"
          ]
        }
      ]
    }
  ]
}