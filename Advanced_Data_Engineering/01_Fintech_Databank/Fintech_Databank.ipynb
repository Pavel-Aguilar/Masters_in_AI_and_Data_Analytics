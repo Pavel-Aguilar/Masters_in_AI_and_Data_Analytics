{
  "cells": [
    {
      "cell_type": "markdown",
      "id": "13b1254f",
      "metadata": {
        "id": "13b1254f"
      },
      "source": [
        "\n",
        "# 📘 Práctica SQL – Fintech Databank\n",
        "\n",
        "Este notebook contiene los **ejercicios prácticos** sobre la base de datos `fintech_databank.db`.  \n",
        "Tu objetivo será escribir consultas SQL para resolver cada problema.\n",
        "\n",
        "👉 **Recuerda:** conecta la base de datos antes de empezar:\n",
        "```python\n",
        "%sql sqlite:////content/drive/MyDrive/ClassFilesIDA/fintech_databank.db\n",
        "```\n"
      ]
    },
    {
      "cell_type": "code",
      "source": [
        "#se desmonta y se monta la unidad por que estoy verificando el archivo nuevo constantemente\n",
        "from google.colab import drive\n",
        "drive.flush_and_unmount()\n",
        "from google.colab import drive\n",
        "drive.mount('/content/drive')"
      ],
      "metadata": {
        "colab": {
          "base_uri": "https://localhost:8080/"
        },
        "id": "ahDiQf9hkY3R",
        "outputId": "f16db5f6-37dd-4509-a05a-1a26fa851e86"
      },
      "id": "ahDiQf9hkY3R",
      "execution_count": null,
      "outputs": [
        {
          "output_type": "stream",
          "name": "stdout",
          "text": [
            "Mounted at /content/drive\n"
          ]
        }
      ]
    },
    {
      "cell_type": "code",
      "source": [
        "!pip install -q \"prettytable==3.11.0\" ipython-sql sqlalchemy"
      ],
      "metadata": {
        "id": "TXF_aoGHdICI"
      },
      "id": "TXF_aoGHdICI",
      "execution_count": null,
      "outputs": []
    },
    {
      "cell_type": "code",
      "source": [
        "%load_ext sql"
      ],
      "metadata": {
        "id": "Rzlhb9I3bs5W"
      },
      "id": "Rzlhb9I3bs5W",
      "execution_count": null,
      "outputs": []
    },
    {
      "cell_type": "markdown",
      "id": "9c511d75",
      "metadata": {
        "id": "9c511d75"
      },
      "source": [
        "\n",
        "## 🔹 Instrucciones generales\n",
        "1. Conéctate a la base de datos.  \n",
        "2. Antes de cada ejercicio, revisa las tablas disponibles con:\n",
        "   ```sql\n",
        "   %%sql\n",
        "   SELECT name FROM sqlite_master WHERE type='table';\n",
        "   ```\n",
        "3. Ejecuta tus consultas SQL en las celdas de código marcadas como `%%sql`.  \n",
        "4. Guarda tus respuestas en este notebook.\n"
      ]
    },
    {
      "cell_type": "code",
      "source": [
        "%sql sqlite:////content/drive/MyDrive/MAESTRIA/Ing_Datos/fintech_databank.db"
      ],
      "metadata": {
        "id": "pTDmdj7sdfkb"
      },
      "id": "pTDmdj7sdfkb",
      "execution_count": null,
      "outputs": []
    },
    {
      "cell_type": "code",
      "source": [
        "%%sql\n",
        "SELECT name FROM sqlite_master WHERE type='table';"
      ],
      "metadata": {
        "colab": {
          "base_uri": "https://localhost:8080/",
          "height": 158
        },
        "id": "SvDfnR_oot1y",
        "outputId": "98523555-4551-4f09-d2df-6deacfba8152"
      },
      "id": "SvDfnR_oot1y",
      "execution_count": null,
      "outputs": [
        {
          "output_type": "stream",
          "name": "stdout",
          "text": [
            " * sqlite:////content/drive/MyDrive/MAESTRIA/Ing_Datos/fintech_databank.db\n",
            "Done.\n"
          ]
        },
        {
          "output_type": "execute_result",
          "data": {
            "text/plain": [
              "[('clientes',), ('cuentas',), ('transacciones',), ('tipos_cambio',)]"
            ],
            "text/html": [
              "<table>\n",
              "    <thead>\n",
              "        <tr>\n",
              "            <th>name</th>\n",
              "        </tr>\n",
              "    </thead>\n",
              "    <tbody>\n",
              "        <tr>\n",
              "            <td>clientes</td>\n",
              "        </tr>\n",
              "        <tr>\n",
              "            <td>cuentas</td>\n",
              "        </tr>\n",
              "        <tr>\n",
              "            <td>transacciones</td>\n",
              "        </tr>\n",
              "        <tr>\n",
              "            <td>tipos_cambio</td>\n",
              "        </tr>\n",
              "    </tbody>\n",
              "</table>"
            ]
          },
          "metadata": {},
          "execution_count": 5
        }
      ]
    },
    {
      "cell_type": "markdown",
      "id": "86bae955",
      "metadata": {
        "id": "86bae955"
      },
      "source": [
        "## **Ejercicio 1. Exploración básica**"
      ]
    },
    {
      "cell_type": "markdown",
      "id": "2c84938e",
      "metadata": {
        "id": "2c84938e"
      },
      "source": [
        "\n",
        "###- Lista todas las filas de la tabla **clientes**.  \n",
        "\n"
      ]
    },
    {
      "cell_type": "code",
      "execution_count": null,
      "id": "e41d84fb",
      "metadata": {
        "id": "e41d84fb",
        "colab": {
          "base_uri": "https://localhost:8080/",
          "height": 137
        },
        "outputId": "83a4d240-129f-4469-f9d6-6a0c835cb801"
      },
      "outputs": [
        {
          "output_type": "stream",
          "name": "stdout",
          "text": [
            " * sqlite:////content/drive/MyDrive/MAESTRIA/Ing_Datos/fintech_databank.db\n",
            "Done.\n"
          ]
        },
        {
          "output_type": "execute_result",
          "data": {
            "text/plain": [
              "[('C001', 'Ana Torres', 'CDMX', 'Retail'),\n",
              " ('C002', 'Luis Gómez', 'Guadalajara', 'Retail'),\n",
              " ('C003', 'Textiles J&R', 'Monterrey', 'PYME')]"
            ],
            "text/html": [
              "<table>\n",
              "    <thead>\n",
              "        <tr>\n",
              "            <th>cliente_id</th>\n",
              "            <th>nombre</th>\n",
              "            <th>ciudad</th>\n",
              "            <th>segmento</th>\n",
              "        </tr>\n",
              "    </thead>\n",
              "    <tbody>\n",
              "        <tr>\n",
              "            <td>C001</td>\n",
              "            <td>Ana Torres</td>\n",
              "            <td>CDMX</td>\n",
              "            <td>Retail</td>\n",
              "        </tr>\n",
              "        <tr>\n",
              "            <td>C002</td>\n",
              "            <td>Luis Gómez</td>\n",
              "            <td>Guadalajara</td>\n",
              "            <td>Retail</td>\n",
              "        </tr>\n",
              "        <tr>\n",
              "            <td>C003</td>\n",
              "            <td>Textiles J&amp;R</td>\n",
              "            <td>Monterrey</td>\n",
              "            <td>PYME</td>\n",
              "        </tr>\n",
              "    </tbody>\n",
              "</table>"
            ]
          },
          "metadata": {},
          "execution_count": 6
        }
      ],
      "source": [
        "%%sql\n",
        "select * from clientes;"
      ]
    },
    {
      "cell_type": "markdown",
      "source": [
        "###- Muestra únicamente el nombre y la ciudad de cada cliente.  "
      ],
      "metadata": {
        "id": "Y4DN3YeMei-k"
      },
      "id": "Y4DN3YeMei-k"
    },
    {
      "cell_type": "code",
      "source": [
        "%%sql\n",
        "select nombre, ciudad from clientes;"
      ],
      "metadata": {
        "colab": {
          "base_uri": "https://localhost:8080/",
          "height": 137
        },
        "id": "_4oMW46ceX9p",
        "outputId": "3a4c9b91-684a-41bb-ef2d-f6ca8db4ada8"
      },
      "id": "_4oMW46ceX9p",
      "execution_count": null,
      "outputs": [
        {
          "output_type": "stream",
          "name": "stdout",
          "text": [
            " * sqlite:////content/drive/MyDrive/MAESTRIA/Ing_Datos/fintech_databank.db\n",
            "Done.\n"
          ]
        },
        {
          "output_type": "execute_result",
          "data": {
            "text/plain": [
              "[('Ana Torres', 'CDMX'),\n",
              " ('Luis Gómez', 'Guadalajara'),\n",
              " ('Textiles J&R', 'Monterrey')]"
            ],
            "text/html": [
              "<table>\n",
              "    <thead>\n",
              "        <tr>\n",
              "            <th>nombre</th>\n",
              "            <th>ciudad</th>\n",
              "        </tr>\n",
              "    </thead>\n",
              "    <tbody>\n",
              "        <tr>\n",
              "            <td>Ana Torres</td>\n",
              "            <td>CDMX</td>\n",
              "        </tr>\n",
              "        <tr>\n",
              "            <td>Luis Gómez</td>\n",
              "            <td>Guadalajara</td>\n",
              "        </tr>\n",
              "        <tr>\n",
              "            <td>Textiles J&amp;R</td>\n",
              "            <td>Monterrey</td>\n",
              "        </tr>\n",
              "    </tbody>\n",
              "</table>"
            ]
          },
          "metadata": {},
          "execution_count": 7
        }
      ]
    },
    {
      "cell_type": "markdown",
      "source": [
        "###- ¿Cuántos clientes hay en total?  "
      ],
      "metadata": {
        "id": "ARWlPxkNemEZ"
      },
      "id": "ARWlPxkNemEZ"
    },
    {
      "cell_type": "code",
      "source": [
        "%%sql\n",
        "select count(*) as numero_clientes from clientes;"
      ],
      "metadata": {
        "colab": {
          "base_uri": "https://localhost:8080/",
          "height": 95
        },
        "id": "2m23UStyendQ",
        "outputId": "d7831051-019d-454b-993e-a62ebd9eda32"
      },
      "id": "2m23UStyendQ",
      "execution_count": null,
      "outputs": [
        {
          "output_type": "stream",
          "name": "stdout",
          "text": [
            " * sqlite:////content/drive/MyDrive/MAESTRIA/Ing_Datos/fintech_databank.db\n",
            "Done.\n"
          ]
        },
        {
          "output_type": "execute_result",
          "data": {
            "text/plain": [
              "[(3,)]"
            ],
            "text/html": [
              "<table>\n",
              "    <thead>\n",
              "        <tr>\n",
              "            <th>numero_clientes</th>\n",
              "        </tr>\n",
              "    </thead>\n",
              "    <tbody>\n",
              "        <tr>\n",
              "            <td>3</td>\n",
              "        </tr>\n",
              "    </tbody>\n",
              "</table>"
            ]
          },
          "metadata": {},
          "execution_count": 8
        }
      ]
    },
    {
      "cell_type": "code",
      "source": [],
      "metadata": {
        "id": "qXc7sxJafP84"
      },
      "id": "qXc7sxJafP84",
      "execution_count": null,
      "outputs": []
    },
    {
      "cell_type": "markdown",
      "id": "691e3b1e",
      "metadata": {
        "id": "691e3b1e"
      },
      "source": [
        "## **Ejercicio 2. Cuentas de clientes**"
      ]
    },
    {
      "cell_type": "markdown",
      "source": [
        "### REVISION\n"
      ],
      "metadata": {
        "id": "_CTrvP2GfoHI"
      },
      "id": "_CTrvP2GfoHI"
    },
    {
      "cell_type": "code",
      "source": [
        "%%sql\n",
        "SELECT name FROM sqlite_master WHERE type='table';"
      ],
      "metadata": {
        "colab": {
          "base_uri": "https://localhost:8080/"
        },
        "id": "fcnZUKr3fySB",
        "outputId": "d10f112e-7822-47a6-b7b3-035f136505ad"
      },
      "id": "fcnZUKr3fySB",
      "execution_count": null,
      "outputs": [
        {
          "output_type": "stream",
          "name": "stdout",
          "text": [
            " * sqlite:////content/drive/MyDrive/MAESTRIA/Ing_Datos/fintech_databank.db\n",
            "Done.\n"
          ]
        },
        {
          "output_type": "execute_result",
          "data": {
            "text/plain": [
              "[('clientes',), ('cuentas',), ('transacciones',), ('tipos_cambio',)]"
            ],
            "text/html": [
              "<table>\n",
              "    <thead>\n",
              "        <tr>\n",
              "            <th>name</th>\n",
              "        </tr>\n",
              "    </thead>\n",
              "    <tbody>\n",
              "        <tr>\n",
              "            <td>clientes</td>\n",
              "        </tr>\n",
              "        <tr>\n",
              "            <td>cuentas</td>\n",
              "        </tr>\n",
              "        <tr>\n",
              "            <td>transacciones</td>\n",
              "        </tr>\n",
              "        <tr>\n",
              "            <td>tipos_cambio</td>\n",
              "        </tr>\n",
              "    </tbody>\n",
              "</table>"
            ]
          },
          "metadata": {},
          "execution_count": 9
        }
      ]
    },
    {
      "cell_type": "markdown",
      "source": [
        "###- Obtén todas las cuentas del cliente **C001**.  "
      ],
      "metadata": {
        "id": "I6wyQU0if9V1"
      },
      "id": "I6wyQU0if9V1"
    },
    {
      "cell_type": "code",
      "execution_count": null,
      "id": "3fdda85c",
      "metadata": {
        "id": "3fdda85c",
        "colab": {
          "base_uri": "https://localhost:8080/",
          "height": 116
        },
        "outputId": "bd8a550b-fcfa-406f-cb32-535a54f297b1"
      },
      "outputs": [
        {
          "output_type": "stream",
          "name": "stdout",
          "text": [
            " * sqlite:////content/drive/MyDrive/MAESTRIA/Ing_Datos/fintech_databank.db\n",
            "Done.\n"
          ]
        },
        {
          "output_type": "execute_result",
          "data": {
            "text/plain": [
              "[('A1001', 'C001', 'MXN', 'Vista', '2024-11-10'),\n",
              " ('A1002', 'C001', 'USD', 'Ahorro', '2024-12-01')]"
            ],
            "text/html": [
              "<table>\n",
              "    <thead>\n",
              "        <tr>\n",
              "            <th>cuenta_id</th>\n",
              "            <th>cliente_id</th>\n",
              "            <th>moneda</th>\n",
              "            <th>tipo</th>\n",
              "            <th>fecha_apertura</th>\n",
              "        </tr>\n",
              "    </thead>\n",
              "    <tbody>\n",
              "        <tr>\n",
              "            <td>A1001</td>\n",
              "            <td>C001</td>\n",
              "            <td>MXN</td>\n",
              "            <td>Vista</td>\n",
              "            <td>2024-11-10</td>\n",
              "        </tr>\n",
              "        <tr>\n",
              "            <td>A1002</td>\n",
              "            <td>C001</td>\n",
              "            <td>USD</td>\n",
              "            <td>Ahorro</td>\n",
              "            <td>2024-12-01</td>\n",
              "        </tr>\n",
              "    </tbody>\n",
              "</table>"
            ]
          },
          "metadata": {},
          "execution_count": 10
        }
      ],
      "source": [
        "%%sql\n",
        "SELECT * FROM cuentas WHERE cliente_id = 'C001';"
      ]
    },
    {
      "cell_type": "markdown",
      "source": [
        "### - Lista las cuentas que están en moneda **USD**."
      ],
      "metadata": {
        "id": "7igdDjlWgSD3"
      },
      "id": "7igdDjlWgSD3"
    },
    {
      "cell_type": "code",
      "source": [
        "%%sql\n",
        "select * from cuentas where moneda = 'USD';"
      ],
      "metadata": {
        "colab": {
          "base_uri": "https://localhost:8080/",
          "height": 95
        },
        "id": "oDnIX0NngQ6D",
        "outputId": "bf222b96-f41a-4bb7-aada-9d2934747194"
      },
      "id": "oDnIX0NngQ6D",
      "execution_count": null,
      "outputs": [
        {
          "output_type": "stream",
          "name": "stdout",
          "text": [
            " * sqlite:////content/drive/MyDrive/MAESTRIA/Ing_Datos/fintech_databank.db\n",
            "Done.\n"
          ]
        },
        {
          "output_type": "execute_result",
          "data": {
            "text/plain": [
              "[('A1002', 'C001', 'USD', 'Ahorro', '2024-12-01')]"
            ],
            "text/html": [
              "<table>\n",
              "    <thead>\n",
              "        <tr>\n",
              "            <th>cuenta_id</th>\n",
              "            <th>cliente_id</th>\n",
              "            <th>moneda</th>\n",
              "            <th>tipo</th>\n",
              "            <th>fecha_apertura</th>\n",
              "        </tr>\n",
              "    </thead>\n",
              "    <tbody>\n",
              "        <tr>\n",
              "            <td>A1002</td>\n",
              "            <td>C001</td>\n",
              "            <td>USD</td>\n",
              "            <td>Ahorro</td>\n",
              "            <td>2024-12-01</td>\n",
              "        </tr>\n",
              "    </tbody>\n",
              "</table>"
            ]
          },
          "metadata": {},
          "execution_count": 11
        }
      ]
    },
    {
      "cell_type": "markdown",
      "source": [
        "### - Muestra el número de cuentas que tiene cada cliente (usa `GROUP BY`).  "
      ],
      "metadata": {
        "id": "vCuJcarGghsI"
      },
      "id": "vCuJcarGghsI"
    },
    {
      "cell_type": "code",
      "source": [
        "%%sql\n",
        "select cliente_id, count(*) as num_cuentas from cuentas group by cliente_id;"
      ],
      "metadata": {
        "colab": {
          "base_uri": "https://localhost:8080/",
          "height": 137
        },
        "id": "at5JbCKcgmIE",
        "outputId": "c5f2c10b-611f-48c3-dd44-e9c33f77a3be"
      },
      "id": "at5JbCKcgmIE",
      "execution_count": null,
      "outputs": [
        {
          "output_type": "stream",
          "name": "stdout",
          "text": [
            " * sqlite:////content/drive/MyDrive/MAESTRIA/Ing_Datos/fintech_databank.db\n",
            "Done.\n"
          ]
        },
        {
          "output_type": "execute_result",
          "data": {
            "text/plain": [
              "[('C001', 2), ('C002', 1), ('C003', 1)]"
            ],
            "text/html": [
              "<table>\n",
              "    <thead>\n",
              "        <tr>\n",
              "            <th>cliente_id</th>\n",
              "            <th>num_cuentas</th>\n",
              "        </tr>\n",
              "    </thead>\n",
              "    <tbody>\n",
              "        <tr>\n",
              "            <td>C001</td>\n",
              "            <td>2</td>\n",
              "        </tr>\n",
              "        <tr>\n",
              "            <td>C002</td>\n",
              "            <td>1</td>\n",
              "        </tr>\n",
              "        <tr>\n",
              "            <td>C003</td>\n",
              "            <td>1</td>\n",
              "        </tr>\n",
              "    </tbody>\n",
              "</table>"
            ]
          },
          "metadata": {},
          "execution_count": 12
        }
      ]
    },
    {
      "cell_type": "code",
      "source": [],
      "metadata": {
        "id": "xfytY3bZg8aK"
      },
      "id": "xfytY3bZg8aK",
      "execution_count": null,
      "outputs": []
    },
    {
      "cell_type": "markdown",
      "id": "1ffda706",
      "metadata": {
        "id": "1ffda706"
      },
      "source": [
        "## **Ejercicio 3. Transacciones**"
      ]
    },
    {
      "cell_type": "markdown",
      "source": [
        "### REVISION"
      ],
      "metadata": {
        "id": "hWzDSUD6hJ2z"
      },
      "id": "hWzDSUD6hJ2z"
    },
    {
      "cell_type": "code",
      "source": [
        "%%sql\n",
        "SELECT name FROM sqlite_master WHERE type='table';"
      ],
      "metadata": {
        "colab": {
          "base_uri": "https://localhost:8080/",
          "height": 158
        },
        "id": "uBgcckNEhL7g",
        "outputId": "fba5a1fa-e196-490f-e10a-e690d09b3558"
      },
      "id": "uBgcckNEhL7g",
      "execution_count": null,
      "outputs": [
        {
          "output_type": "stream",
          "name": "stdout",
          "text": [
            " * sqlite:////content/drive/MyDrive/MAESTRIA/Ing_Datos/fintech_databank.db\n",
            "Done.\n"
          ]
        },
        {
          "output_type": "execute_result",
          "data": {
            "text/plain": [
              "[('clientes',), ('cuentas',), ('transacciones',), ('tipos_cambio',)]"
            ],
            "text/html": [
              "<table>\n",
              "    <thead>\n",
              "        <tr>\n",
              "            <th>name</th>\n",
              "        </tr>\n",
              "    </thead>\n",
              "    <tbody>\n",
              "        <tr>\n",
              "            <td>clientes</td>\n",
              "        </tr>\n",
              "        <tr>\n",
              "            <td>cuentas</td>\n",
              "        </tr>\n",
              "        <tr>\n",
              "            <td>transacciones</td>\n",
              "        </tr>\n",
              "        <tr>\n",
              "            <td>tipos_cambio</td>\n",
              "        </tr>\n",
              "    </tbody>\n",
              "</table>"
            ]
          },
          "metadata": {},
          "execution_count": 13
        }
      ]
    },
    {
      "cell_type": "markdown",
      "source": [
        "### Transacciones"
      ],
      "metadata": {
        "id": "V5YO8gc5kDRI"
      },
      "id": "V5YO8gc5kDRI"
    },
    {
      "cell_type": "code",
      "source": [
        "%%sql\n",
        "select * from transacciones;"
      ],
      "metadata": {
        "colab": {
          "base_uri": "https://localhost:8080/",
          "height": 284
        },
        "id": "WJiXeqPxin4c",
        "outputId": "b22b21f4-1efb-4957-d9aa-22342e6fe220"
      },
      "id": "WJiXeqPxin4c",
      "execution_count": null,
      "outputs": [
        {
          "output_type": "stream",
          "name": "stdout",
          "text": [
            " * sqlite:////content/drive/MyDrive/MAESTRIA/Ing_Datos/fintech_databank.db\n",
            "Done.\n"
          ]
        },
        {
          "output_type": "execute_result",
          "data": {
            "text/plain": [
              "[('T0001', 'A1001', '2025-07-01', 'Nómina', 25000, 'Depósito'),\n",
              " ('T0002', 'A1001', '2025-07-03', 'Renta', -12000, 'Pago'),\n",
              " ('T0003', 'A1001', '2025-07-05', 'Super', -2200, 'Pago'),\n",
              " ('T0004', 'A1002', '2025-07-07', 'Ahorro mensual', 800, 'Depósito'),\n",
              " ('T0005', 'A2001', '2025-07-02', 'Interés mensual', 120, 'Interés'),\n",
              " ('T0006', 'A2001', '2025-07-04', 'Comisión manejo', -45, 'Comisión'),\n",
              " ('T0007', 'A3001', '2025-07-10', 'Pago nómina empleados', -68000, 'Pago'),\n",
              " ('T0008', 'A3001', '2025-07-12', 'Transferencia cliente', 95000, 'Transferencia'),\n",
              " ('T0009', 'A1001', '2025-07-15', 'Comisión retiro', -35, 'Comisión'),\n",
              " ('T0010', 'A1002', '2025-07-20', 'Interés mensual', 3.5, 'Interés')]"
            ],
            "text/html": [
              "<table>\n",
              "    <thead>\n",
              "        <tr>\n",
              "            <th>tx_id</th>\n",
              "            <th>cuenta_id</th>\n",
              "            <th>fecha</th>\n",
              "            <th>concepto</th>\n",
              "            <th>monto</th>\n",
              "            <th>categoria</th>\n",
              "        </tr>\n",
              "    </thead>\n",
              "    <tbody>\n",
              "        <tr>\n",
              "            <td>T0001</td>\n",
              "            <td>A1001</td>\n",
              "            <td>2025-07-01</td>\n",
              "            <td>Nómina</td>\n",
              "            <td>25000</td>\n",
              "            <td>Depósito</td>\n",
              "        </tr>\n",
              "        <tr>\n",
              "            <td>T0002</td>\n",
              "            <td>A1001</td>\n",
              "            <td>2025-07-03</td>\n",
              "            <td>Renta</td>\n",
              "            <td>-12000</td>\n",
              "            <td>Pago</td>\n",
              "        </tr>\n",
              "        <tr>\n",
              "            <td>T0003</td>\n",
              "            <td>A1001</td>\n",
              "            <td>2025-07-05</td>\n",
              "            <td>Super</td>\n",
              "            <td>-2200</td>\n",
              "            <td>Pago</td>\n",
              "        </tr>\n",
              "        <tr>\n",
              "            <td>T0004</td>\n",
              "            <td>A1002</td>\n",
              "            <td>2025-07-07</td>\n",
              "            <td>Ahorro mensual</td>\n",
              "            <td>800</td>\n",
              "            <td>Depósito</td>\n",
              "        </tr>\n",
              "        <tr>\n",
              "            <td>T0005</td>\n",
              "            <td>A2001</td>\n",
              "            <td>2025-07-02</td>\n",
              "            <td>Interés mensual</td>\n",
              "            <td>120</td>\n",
              "            <td>Interés</td>\n",
              "        </tr>\n",
              "        <tr>\n",
              "            <td>T0006</td>\n",
              "            <td>A2001</td>\n",
              "            <td>2025-07-04</td>\n",
              "            <td>Comisión manejo</td>\n",
              "            <td>-45</td>\n",
              "            <td>Comisión</td>\n",
              "        </tr>\n",
              "        <tr>\n",
              "            <td>T0007</td>\n",
              "            <td>A3001</td>\n",
              "            <td>2025-07-10</td>\n",
              "            <td>Pago nómina empleados</td>\n",
              "            <td>-68000</td>\n",
              "            <td>Pago</td>\n",
              "        </tr>\n",
              "        <tr>\n",
              "            <td>T0008</td>\n",
              "            <td>A3001</td>\n",
              "            <td>2025-07-12</td>\n",
              "            <td>Transferencia cliente</td>\n",
              "            <td>95000</td>\n",
              "            <td>Transferencia</td>\n",
              "        </tr>\n",
              "        <tr>\n",
              "            <td>T0009</td>\n",
              "            <td>A1001</td>\n",
              "            <td>2025-07-15</td>\n",
              "            <td>Comisión retiro</td>\n",
              "            <td>-35</td>\n",
              "            <td>Comisión</td>\n",
              "        </tr>\n",
              "        <tr>\n",
              "            <td>T0010</td>\n",
              "            <td>A1002</td>\n",
              "            <td>2025-07-20</td>\n",
              "            <td>Interés mensual</td>\n",
              "            <td>3.5</td>\n",
              "            <td>Interés</td>\n",
              "        </tr>\n",
              "    </tbody>\n",
              "</table>"
            ]
          },
          "metadata": {},
          "execution_count": 14
        }
      ]
    },
    {
      "cell_type": "markdown",
      "source": [
        "###- Obtén todas las transacciones de la cuenta **A1001**.  "
      ],
      "metadata": {
        "id": "cEaQbe4ahP_x"
      },
      "id": "cEaQbe4ahP_x"
    },
    {
      "cell_type": "code",
      "source": [
        "%%sql\n",
        "select * from transacciones where cuenta_id = 'A1001';"
      ],
      "metadata": {
        "colab": {
          "base_uri": "https://localhost:8080/",
          "height": 158
        },
        "id": "DqeMIy6ChSKN",
        "outputId": "0c5703b7-e235-4f76-b899-5d5c7a578320"
      },
      "id": "DqeMIy6ChSKN",
      "execution_count": null,
      "outputs": [
        {
          "output_type": "stream",
          "name": "stdout",
          "text": [
            " * sqlite:////content/drive/MyDrive/MAESTRIA/Ing_Datos/fintech_databank.db\n",
            "Done.\n"
          ]
        },
        {
          "output_type": "execute_result",
          "data": {
            "text/plain": [
              "[('T0001', 'A1001', '2025-07-01', 'Nómina', 25000, 'Depósito'),\n",
              " ('T0002', 'A1001', '2025-07-03', 'Renta', -12000, 'Pago'),\n",
              " ('T0003', 'A1001', '2025-07-05', 'Super', -2200, 'Pago'),\n",
              " ('T0009', 'A1001', '2025-07-15', 'Comisión retiro', -35, 'Comisión')]"
            ],
            "text/html": [
              "<table>\n",
              "    <thead>\n",
              "        <tr>\n",
              "            <th>tx_id</th>\n",
              "            <th>cuenta_id</th>\n",
              "            <th>fecha</th>\n",
              "            <th>concepto</th>\n",
              "            <th>monto</th>\n",
              "            <th>categoria</th>\n",
              "        </tr>\n",
              "    </thead>\n",
              "    <tbody>\n",
              "        <tr>\n",
              "            <td>T0001</td>\n",
              "            <td>A1001</td>\n",
              "            <td>2025-07-01</td>\n",
              "            <td>Nómina</td>\n",
              "            <td>25000</td>\n",
              "            <td>Depósito</td>\n",
              "        </tr>\n",
              "        <tr>\n",
              "            <td>T0002</td>\n",
              "            <td>A1001</td>\n",
              "            <td>2025-07-03</td>\n",
              "            <td>Renta</td>\n",
              "            <td>-12000</td>\n",
              "            <td>Pago</td>\n",
              "        </tr>\n",
              "        <tr>\n",
              "            <td>T0003</td>\n",
              "            <td>A1001</td>\n",
              "            <td>2025-07-05</td>\n",
              "            <td>Super</td>\n",
              "            <td>-2200</td>\n",
              "            <td>Pago</td>\n",
              "        </tr>\n",
              "        <tr>\n",
              "            <td>T0009</td>\n",
              "            <td>A1001</td>\n",
              "            <td>2025-07-15</td>\n",
              "            <td>Comisión retiro</td>\n",
              "            <td>-35</td>\n",
              "            <td>Comisión</td>\n",
              "        </tr>\n",
              "    </tbody>\n",
              "</table>"
            ]
          },
          "metadata": {},
          "execution_count": 15
        }
      ]
    },
    {
      "cell_type": "markdown",
      "source": [
        "###- Calcula el **saldo neto** de esa cuenta sumando la columna `monto`."
      ],
      "metadata": {
        "id": "nPLz-in0hlxT"
      },
      "id": "nPLz-in0hlxT"
    },
    {
      "cell_type": "code",
      "source": [
        "%%sql\n",
        "select sum(monto) as saldo_neto from transacciones where cuenta_id = 'A1001';"
      ],
      "metadata": {
        "colab": {
          "base_uri": "https://localhost:8080/",
          "height": 95
        },
        "id": "bIMJ7n5LhrHn",
        "outputId": "b29b94fd-d12d-4c0a-b21a-3abe86c330b8"
      },
      "id": "bIMJ7n5LhrHn",
      "execution_count": null,
      "outputs": [
        {
          "output_type": "stream",
          "name": "stdout",
          "text": [
            " * sqlite:////content/drive/MyDrive/MAESTRIA/Ing_Datos/fintech_databank.db\n",
            "Done.\n"
          ]
        },
        {
          "output_type": "execute_result",
          "data": {
            "text/plain": [
              "[(10765,)]"
            ],
            "text/html": [
              "<table>\n",
              "    <thead>\n",
              "        <tr>\n",
              "            <th>saldo_neto</th>\n",
              "        </tr>\n",
              "    </thead>\n",
              "    <tbody>\n",
              "        <tr>\n",
              "            <td>10765</td>\n",
              "        </tr>\n",
              "    </tbody>\n",
              "</table>"
            ]
          },
          "metadata": {},
          "execution_count": 34
        }
      ]
    },
    {
      "cell_type": "markdown",
      "source": [
        "###- Lista las transacciones que sean **comisiones**."
      ],
      "metadata": {
        "id": "pDs098y5iNS_"
      },
      "id": "pDs098y5iNS_"
    },
    {
      "cell_type": "code",
      "source": [
        "%%sql\n",
        "select * from transacciones where concepto IN ('Comisión manejo','Comisión retiro');"
      ],
      "metadata": {
        "colab": {
          "base_uri": "https://localhost:8080/",
          "height": 116
        },
        "id": "TJfgyq_jiOWD",
        "outputId": "aa51fcfc-7071-432d-bb8d-cb321abc5e77"
      },
      "id": "TJfgyq_jiOWD",
      "execution_count": null,
      "outputs": [
        {
          "output_type": "stream",
          "name": "stdout",
          "text": [
            " * sqlite:////content/drive/MyDrive/MAESTRIA/Ing_Datos/fintech_databank.db\n",
            "Done.\n"
          ]
        },
        {
          "output_type": "execute_result",
          "data": {
            "text/plain": [
              "[('T0006', 'A2001', '2025-07-04', 'Comisión manejo', -45, 'Comisión'),\n",
              " ('T0009', 'A1001', '2025-07-15', 'Comisión retiro', -35, 'Comisión')]"
            ],
            "text/html": [
              "<table>\n",
              "    <thead>\n",
              "        <tr>\n",
              "            <th>tx_id</th>\n",
              "            <th>cuenta_id</th>\n",
              "            <th>fecha</th>\n",
              "            <th>concepto</th>\n",
              "            <th>monto</th>\n",
              "            <th>categoria</th>\n",
              "        </tr>\n",
              "    </thead>\n",
              "    <tbody>\n",
              "        <tr>\n",
              "            <td>T0006</td>\n",
              "            <td>A2001</td>\n",
              "            <td>2025-07-04</td>\n",
              "            <td>Comisión manejo</td>\n",
              "            <td>-45</td>\n",
              "            <td>Comisión</td>\n",
              "        </tr>\n",
              "        <tr>\n",
              "            <td>T0009</td>\n",
              "            <td>A1001</td>\n",
              "            <td>2025-07-15</td>\n",
              "            <td>Comisión retiro</td>\n",
              "            <td>-35</td>\n",
              "            <td>Comisión</td>\n",
              "        </tr>\n",
              "    </tbody>\n",
              "</table>"
            ]
          },
          "metadata": {},
          "execution_count": 17
        }
      ]
    },
    {
      "cell_type": "code",
      "source": [
        "%%sql\n",
        "select * from transacciones where categoria = 'Comisión';"
      ],
      "metadata": {
        "colab": {
          "base_uri": "https://localhost:8080/",
          "height": 116
        },
        "id": "BNEo7upJkR8U",
        "outputId": "e1152433-fb14-4db1-b84b-7c1b4ab82bbc"
      },
      "id": "BNEo7upJkR8U",
      "execution_count": null,
      "outputs": [
        {
          "output_type": "stream",
          "name": "stdout",
          "text": [
            " * sqlite:////content/drive/MyDrive/MAESTRIA/Ing_Datos/fintech_databank.db\n",
            "Done.\n"
          ]
        },
        {
          "output_type": "execute_result",
          "data": {
            "text/plain": [
              "[('T0006', 'A2001', '2025-07-04', 'Comisión manejo', -45, 'Comisión'),\n",
              " ('T0009', 'A1001', '2025-07-15', 'Comisión retiro', -35, 'Comisión')]"
            ],
            "text/html": [
              "<table>\n",
              "    <thead>\n",
              "        <tr>\n",
              "            <th>tx_id</th>\n",
              "            <th>cuenta_id</th>\n",
              "            <th>fecha</th>\n",
              "            <th>concepto</th>\n",
              "            <th>monto</th>\n",
              "            <th>categoria</th>\n",
              "        </tr>\n",
              "    </thead>\n",
              "    <tbody>\n",
              "        <tr>\n",
              "            <td>T0006</td>\n",
              "            <td>A2001</td>\n",
              "            <td>2025-07-04</td>\n",
              "            <td>Comisión manejo</td>\n",
              "            <td>-45</td>\n",
              "            <td>Comisión</td>\n",
              "        </tr>\n",
              "        <tr>\n",
              "            <td>T0009</td>\n",
              "            <td>A1001</td>\n",
              "            <td>2025-07-15</td>\n",
              "            <td>Comisión retiro</td>\n",
              "            <td>-35</td>\n",
              "            <td>Comisión</td>\n",
              "        </tr>\n",
              "    </tbody>\n",
              "</table>"
            ]
          },
          "metadata": {},
          "execution_count": 18
        }
      ]
    },
    {
      "cell_type": "markdown",
      "id": "44ba4398",
      "metadata": {
        "id": "44ba4398"
      },
      "source": [
        "## **Ejercicio 4. Reportes con agrupaciones**"
      ]
    },
    {
      "cell_type": "markdown",
      "source": [
        "### REVISION"
      ],
      "metadata": {
        "id": "DAzm5QzPkoIU"
      },
      "id": "DAzm5QzPkoIU"
    },
    {
      "cell_type": "code",
      "source": [
        "%%sql\n",
        "SELECT name FROM sqlite_master WHERE type='table';"
      ],
      "metadata": {
        "colab": {
          "base_uri": "https://localhost:8080/",
          "height": 158
        },
        "id": "0BAesvF2kniP",
        "outputId": "8fce604a-f6f4-43bb-fed9-03a850b50c70"
      },
      "id": "0BAesvF2kniP",
      "execution_count": null,
      "outputs": [
        {
          "output_type": "stream",
          "name": "stdout",
          "text": [
            " * sqlite:////content/drive/MyDrive/MAESTRIA/Ing_Datos/fintech_databank.db\n",
            "Done.\n"
          ]
        },
        {
          "output_type": "execute_result",
          "data": {
            "text/plain": [
              "[('clientes',), ('cuentas',), ('transacciones',), ('tipos_cambio',)]"
            ],
            "text/html": [
              "<table>\n",
              "    <thead>\n",
              "        <tr>\n",
              "            <th>name</th>\n",
              "        </tr>\n",
              "    </thead>\n",
              "    <tbody>\n",
              "        <tr>\n",
              "            <td>clientes</td>\n",
              "        </tr>\n",
              "        <tr>\n",
              "            <td>cuentas</td>\n",
              "        </tr>\n",
              "        <tr>\n",
              "            <td>transacciones</td>\n",
              "        </tr>\n",
              "        <tr>\n",
              "            <td>tipos_cambio</td>\n",
              "        </tr>\n",
              "    </tbody>\n",
              "</table>"
            ]
          },
          "metadata": {},
          "execution_count": 19
        }
      ]
    },
    {
      "cell_type": "markdown",
      "id": "2feb1f16",
      "metadata": {
        "id": "2feb1f16"
      },
      "source": [
        "\n",
        "###- Calcula el total de transacciones (suma de `monto`) por **categoría**.     \n"
      ]
    },
    {
      "cell_type": "code",
      "execution_count": null,
      "id": "6284b08b",
      "metadata": {
        "id": "6284b08b",
        "colab": {
          "base_uri": "https://localhost:8080/",
          "height": 179
        },
        "outputId": "a1207166-791a-4e7f-b8f0-1b1ff44104b3"
      },
      "outputs": [
        {
          "output_type": "stream",
          "name": "stdout",
          "text": [
            " * sqlite:////content/drive/MyDrive/MAESTRIA/Ing_Datos/fintech_databank.db\n",
            "Done.\n"
          ]
        },
        {
          "output_type": "execute_result",
          "data": {
            "text/plain": [
              "[('Comisión', -80),\n",
              " ('Depósito', 25800),\n",
              " ('Interés', 123.5),\n",
              " ('Pago', -82200),\n",
              " ('Transferencia', 95000)]"
            ],
            "text/html": [
              "<table>\n",
              "    <thead>\n",
              "        <tr>\n",
              "            <th>categoria</th>\n",
              "            <th>total_transacciones</th>\n",
              "        </tr>\n",
              "    </thead>\n",
              "    <tbody>\n",
              "        <tr>\n",
              "            <td>Comisión</td>\n",
              "            <td>-80</td>\n",
              "        </tr>\n",
              "        <tr>\n",
              "            <td>Depósito</td>\n",
              "            <td>25800</td>\n",
              "        </tr>\n",
              "        <tr>\n",
              "            <td>Interés</td>\n",
              "            <td>123.5</td>\n",
              "        </tr>\n",
              "        <tr>\n",
              "            <td>Pago</td>\n",
              "            <td>-82200</td>\n",
              "        </tr>\n",
              "        <tr>\n",
              "            <td>Transferencia</td>\n",
              "            <td>95000</td>\n",
              "        </tr>\n",
              "    </tbody>\n",
              "</table>"
            ]
          },
          "metadata": {},
          "execution_count": 20
        }
      ],
      "source": [
        "%%sql\n",
        "select categoria, sum(monto) as total_transacciones\n",
        "from transacciones group by categoria;"
      ]
    },
    {
      "cell_type": "markdown",
      "id": "894dd9a1",
      "metadata": {
        "id": "894dd9a1"
      },
      "source": [
        "\n",
        "## **Ejercicio 5. Modificar datos (UPDATE)**\n",
        "\n",
        "> **Objetivo:** actualizar valores existentes usando `WHERE` de forma segura.\n",
        "\n",
        "> **Tip:** siempre valida primero con un `SELECT` y después aplica el `UPDATE`.\n"
      ]
    },
    {
      "cell_type": "markdown",
      "source": [
        "### REVISION"
      ],
      "metadata": {
        "id": "ZgMfbnSvmVXa"
      },
      "id": "ZgMfbnSvmVXa"
    },
    {
      "cell_type": "code",
      "source": [
        "%%sql\n",
        "SELECT name FROM sqlite_master WHERE type='table';"
      ],
      "metadata": {
        "colab": {
          "base_uri": "https://localhost:8080/"
        },
        "id": "1uxqydgamX08",
        "outputId": "825c9140-8ed6-4ed8-a321-a2430afcd6fa"
      },
      "id": "1uxqydgamX08",
      "execution_count": null,
      "outputs": [
        {
          "output_type": "stream",
          "name": "stdout",
          "text": [
            " * sqlite:////content/drive/MyDrive/MAESTRIA/Ing_Datos/fintech_databank.db\n",
            "Done.\n"
          ]
        },
        {
          "output_type": "execute_result",
          "data": {
            "text/plain": [
              "[('clientes',), ('cuentas',), ('transacciones',), ('tipos_cambio',)]"
            ],
            "text/html": [
              "<table>\n",
              "    <thead>\n",
              "        <tr>\n",
              "            <th>name</th>\n",
              "        </tr>\n",
              "    </thead>\n",
              "    <tbody>\n",
              "        <tr>\n",
              "            <td>clientes</td>\n",
              "        </tr>\n",
              "        <tr>\n",
              "            <td>cuentas</td>\n",
              "        </tr>\n",
              "        <tr>\n",
              "            <td>transacciones</td>\n",
              "        </tr>\n",
              "        <tr>\n",
              "            <td>tipos_cambio</td>\n",
              "        </tr>\n",
              "    </tbody>\n",
              "</table>"
            ]
          },
          "metadata": {},
          "execution_count": 21
        }
      ]
    },
    {
      "cell_type": "markdown",
      "source": [
        "### 1. Cambia el `segmento` del cliente **C002** de *Retail* a **PYME**."
      ],
      "metadata": {
        "id": "1tnWXWjfmks1"
      },
      "id": "1tnWXWjfmks1"
    },
    {
      "cell_type": "code",
      "execution_count": null,
      "id": "04a5a31d",
      "metadata": {
        "id": "04a5a31d",
        "colab": {
          "base_uri": "https://localhost:8080/",
          "height": 95
        },
        "outputId": "12e7b8f8-06b3-48c3-f097-3ac836a6d594"
      },
      "outputs": [
        {
          "output_type": "stream",
          "name": "stdout",
          "text": [
            " * sqlite:////content/drive/MyDrive/MAESTRIA/Ing_Datos/fintech_databank.db\n",
            "Done.\n"
          ]
        },
        {
          "output_type": "execute_result",
          "data": {
            "text/plain": [
              "[('C002', 'Luis Gómez', 'Guadalajara', 'Retail')]"
            ],
            "text/html": [
              "<table>\n",
              "    <thead>\n",
              "        <tr>\n",
              "            <th>cliente_id</th>\n",
              "            <th>nombre</th>\n",
              "            <th>ciudad</th>\n",
              "            <th>segmento</th>\n",
              "        </tr>\n",
              "    </thead>\n",
              "    <tbody>\n",
              "        <tr>\n",
              "            <td>C002</td>\n",
              "            <td>Luis Gómez</td>\n",
              "            <td>Guadalajara</td>\n",
              "            <td>Retail</td>\n",
              "        </tr>\n",
              "    </tbody>\n",
              "</table>"
            ]
          },
          "metadata": {},
          "execution_count": 22
        }
      ],
      "source": [
        "#PRIMERO SELECT\n",
        "%%sql\n",
        "select * from clientes where cliente_id = 'C002';\n"
      ]
    },
    {
      "cell_type": "code",
      "source": [
        "#AHORA UPDATE\n",
        "%%sql\n",
        "update clientes set segmento = 'PYME' where cliente_id = 'C002';"
      ],
      "metadata": {
        "colab": {
          "base_uri": "https://localhost:8080/"
        },
        "id": "Ih9tPEv8mzXs",
        "outputId": "35adea69-83e2-45ee-8567-ece8f8fcaa60"
      },
      "id": "Ih9tPEv8mzXs",
      "execution_count": null,
      "outputs": [
        {
          "output_type": "stream",
          "name": "stdout",
          "text": [
            " * sqlite:////content/drive/MyDrive/MAESTRIA/Ing_Datos/fintech_databank.db\n",
            "1 rows affected.\n"
          ]
        },
        {
          "output_type": "execute_result",
          "data": {
            "text/plain": [
              "[]"
            ]
          },
          "metadata": {},
          "execution_count": 23
        }
      ]
    },
    {
      "cell_type": "markdown",
      "source": [
        "### 2. Corrige la `ciudad` de **Textiles J&R (C003)** a **Saltillo**.  "
      ],
      "metadata": {
        "id": "vrnWe1HuqMpT"
      },
      "id": "vrnWe1HuqMpT"
    },
    {
      "cell_type": "code",
      "source": [
        "#PRIMERO SELECT\n",
        "%%sql\n",
        "select * from clientes where cliente_id = 'C003';"
      ],
      "metadata": {
        "colab": {
          "base_uri": "https://localhost:8080/",
          "height": 95
        },
        "id": "aBveFziTqpzu",
        "outputId": "01eac725-d418-4520-dcf2-32927104fc33"
      },
      "id": "aBveFziTqpzu",
      "execution_count": null,
      "outputs": [
        {
          "output_type": "stream",
          "name": "stdout",
          "text": [
            " * sqlite:////content/drive/MyDrive/MAESTRIA/Ing_Datos/fintech_databank.db\n",
            "Done.\n"
          ]
        },
        {
          "output_type": "execute_result",
          "data": {
            "text/plain": [
              "[('C003', 'Textiles J&R', 'Monterrey', 'PYME')]"
            ],
            "text/html": [
              "<table>\n",
              "    <thead>\n",
              "        <tr>\n",
              "            <th>cliente_id</th>\n",
              "            <th>nombre</th>\n",
              "            <th>ciudad</th>\n",
              "            <th>segmento</th>\n",
              "        </tr>\n",
              "    </thead>\n",
              "    <tbody>\n",
              "        <tr>\n",
              "            <td>C003</td>\n",
              "            <td>Textiles J&amp;R</td>\n",
              "            <td>Monterrey</td>\n",
              "            <td>PYME</td>\n",
              "        </tr>\n",
              "    </tbody>\n",
              "</table>"
            ]
          },
          "metadata": {},
          "execution_count": 24
        }
      ]
    },
    {
      "cell_type": "code",
      "source": [
        "#ahora UPDATE\n",
        "%%sql\n",
        "update clientes set ciudad = 'Saltillo' where cliente_id = 'C003';"
      ],
      "metadata": {
        "colab": {
          "base_uri": "https://localhost:8080/"
        },
        "id": "MIKFW8h1rUT-",
        "outputId": "3fb20ec9-9194-4bc3-d998-7961a19ce76e"
      },
      "id": "MIKFW8h1rUT-",
      "execution_count": null,
      "outputs": [
        {
          "output_type": "stream",
          "name": "stdout",
          "text": [
            " * sqlite:////content/drive/MyDrive/MAESTRIA/Ing_Datos/fintech_databank.db\n",
            "1 rows affected.\n"
          ]
        },
        {
          "output_type": "execute_result",
          "data": {
            "text/plain": [
              "[]"
            ]
          },
          "metadata": {},
          "execution_count": 25
        }
      ]
    },
    {
      "cell_type": "markdown",
      "source": [
        "###VERIFICACIÓN"
      ],
      "metadata": {
        "id": "VLT1jX3irbJ4"
      },
      "id": "VLT1jX3irbJ4"
    },
    {
      "cell_type": "code",
      "source": [
        "%%sql\n",
        "select * from clientes;"
      ],
      "metadata": {
        "colab": {
          "base_uri": "https://localhost:8080/"
        },
        "id": "04kr7JKJrdcK",
        "outputId": "6c780ba7-b736-4c5a-ca33-c8530e1b8b11"
      },
      "id": "04kr7JKJrdcK",
      "execution_count": null,
      "outputs": [
        {
          "output_type": "stream",
          "name": "stdout",
          "text": [
            " * sqlite:////content/drive/MyDrive/MAESTRIA/Ing_Datos/fintech_databank.db\n",
            "Done.\n"
          ]
        },
        {
          "output_type": "execute_result",
          "data": {
            "text/plain": [
              "[('C001', 'Ana Torres', 'CDMX', 'Retail'),\n",
              " ('C002', 'Luis Gómez', 'Guadalajara', 'PYME'),\n",
              " ('C003', 'Textiles J&R', 'Saltillo', 'PYME')]"
            ],
            "text/html": [
              "<table>\n",
              "    <thead>\n",
              "        <tr>\n",
              "            <th>cliente_id</th>\n",
              "            <th>nombre</th>\n",
              "            <th>ciudad</th>\n",
              "            <th>segmento</th>\n",
              "        </tr>\n",
              "    </thead>\n",
              "    <tbody>\n",
              "        <tr>\n",
              "            <td>C001</td>\n",
              "            <td>Ana Torres</td>\n",
              "            <td>CDMX</td>\n",
              "            <td>Retail</td>\n",
              "        </tr>\n",
              "        <tr>\n",
              "            <td>C002</td>\n",
              "            <td>Luis Gómez</td>\n",
              "            <td>Guadalajara</td>\n",
              "            <td>PYME</td>\n",
              "        </tr>\n",
              "        <tr>\n",
              "            <td>C003</td>\n",
              "            <td>Textiles J&amp;R</td>\n",
              "            <td>Saltillo</td>\n",
              "            <td>PYME</td>\n",
              "        </tr>\n",
              "    </tbody>\n",
              "</table>"
            ]
          },
          "metadata": {},
          "execution_count": 26
        }
      ]
    },
    {
      "cell_type": "markdown",
      "id": "e7c55d03",
      "metadata": {
        "id": "e7c55d03"
      },
      "source": [
        "\n",
        "## **Ejercicio 6. Borrar datos (DELETE)**\n",
        "\n",
        "> **Objetivo:** eliminar filas específicas manteniendo la integridad y usando `WHERE`.\n",
        "\n",
        "> **Tip:** prueba primero con `SELECT` para verificar el subconjunto a borrar.\n"
      ]
    },
    {
      "cell_type": "markdown",
      "source": [
        "### VERIFICACION\n"
      ],
      "metadata": {
        "id": "PkbkJx06sYKo"
      },
      "id": "PkbkJx06sYKo"
    },
    {
      "cell_type": "code",
      "source": [
        "%%sql\n",
        "SELECT name FROM sqlite_master WHERE type='table';"
      ],
      "metadata": {
        "colab": {
          "base_uri": "https://localhost:8080/",
          "height": 158
        },
        "id": "i6Ncj538scOJ",
        "outputId": "5805da9d-9fd2-44ad-e0ed-824937cd38ff"
      },
      "id": "i6Ncj538scOJ",
      "execution_count": null,
      "outputs": [
        {
          "output_type": "stream",
          "name": "stdout",
          "text": [
            " * sqlite:////content/drive/MyDrive/MAESTRIA/Ing_Datos/fintech_databank.db\n",
            "Done.\n"
          ]
        },
        {
          "output_type": "execute_result",
          "data": {
            "text/plain": [
              "[('clientes',), ('cuentas',), ('transacciones',), ('tipos_cambio',)]"
            ],
            "text/html": [
              "<table>\n",
              "    <thead>\n",
              "        <tr>\n",
              "            <th>name</th>\n",
              "        </tr>\n",
              "    </thead>\n",
              "    <tbody>\n",
              "        <tr>\n",
              "            <td>clientes</td>\n",
              "        </tr>\n",
              "        <tr>\n",
              "            <td>cuentas</td>\n",
              "        </tr>\n",
              "        <tr>\n",
              "            <td>transacciones</td>\n",
              "        </tr>\n",
              "        <tr>\n",
              "            <td>tipos_cambio</td>\n",
              "        </tr>\n",
              "    </tbody>\n",
              "</table>"
            ]
          },
          "metadata": {},
          "execution_count": 27
        }
      ]
    },
    {
      "cell_type": "code",
      "source": [
        "%%sql\n",
        "select * from transacciones;"
      ],
      "metadata": {
        "colab": {
          "base_uri": "https://localhost:8080/",
          "height": 284
        },
        "id": "iEOdghE0t0Y6",
        "outputId": "c8e7ef8c-592b-4af4-ab36-9585e527de88"
      },
      "id": "iEOdghE0t0Y6",
      "execution_count": null,
      "outputs": [
        {
          "output_type": "stream",
          "name": "stdout",
          "text": [
            " * sqlite:////content/drive/MyDrive/MAESTRIA/Ing_Datos/fintech_databank.db\n",
            "Done.\n"
          ]
        },
        {
          "output_type": "execute_result",
          "data": {
            "text/plain": [
              "[('T0001', 'A1001', '2025-07-01', 'Nómina', 25000, 'Depósito'),\n",
              " ('T0002', 'A1001', '2025-07-03', 'Renta', -12000, 'Pago'),\n",
              " ('T0003', 'A1001', '2025-07-05', 'Super', -2200, 'Pago'),\n",
              " ('T0004', 'A1002', '2025-07-07', 'Ahorro mensual', 800, 'Depósito'),\n",
              " ('T0005', 'A2001', '2025-07-02', 'Interés mensual', 120, 'Interés'),\n",
              " ('T0006', 'A2001', '2025-07-04', 'Comisión manejo', -45, 'Comisión'),\n",
              " ('T0007', 'A3001', '2025-07-10', 'Pago nómina empleados', -68000, 'Pago'),\n",
              " ('T0008', 'A3001', '2025-07-12', 'Transferencia cliente', 95000, 'Transferencia'),\n",
              " ('T0009', 'A1001', '2025-07-15', 'Comisión retiro', -35, 'Comisión'),\n",
              " ('T0010', 'A1002', '2025-07-20', 'Interés mensual', 3.5, 'Interés')]"
            ],
            "text/html": [
              "<table>\n",
              "    <thead>\n",
              "        <tr>\n",
              "            <th>tx_id</th>\n",
              "            <th>cuenta_id</th>\n",
              "            <th>fecha</th>\n",
              "            <th>concepto</th>\n",
              "            <th>monto</th>\n",
              "            <th>categoria</th>\n",
              "        </tr>\n",
              "    </thead>\n",
              "    <tbody>\n",
              "        <tr>\n",
              "            <td>T0001</td>\n",
              "            <td>A1001</td>\n",
              "            <td>2025-07-01</td>\n",
              "            <td>Nómina</td>\n",
              "            <td>25000</td>\n",
              "            <td>Depósito</td>\n",
              "        </tr>\n",
              "        <tr>\n",
              "            <td>T0002</td>\n",
              "            <td>A1001</td>\n",
              "            <td>2025-07-03</td>\n",
              "            <td>Renta</td>\n",
              "            <td>-12000</td>\n",
              "            <td>Pago</td>\n",
              "        </tr>\n",
              "        <tr>\n",
              "            <td>T0003</td>\n",
              "            <td>A1001</td>\n",
              "            <td>2025-07-05</td>\n",
              "            <td>Super</td>\n",
              "            <td>-2200</td>\n",
              "            <td>Pago</td>\n",
              "        </tr>\n",
              "        <tr>\n",
              "            <td>T0004</td>\n",
              "            <td>A1002</td>\n",
              "            <td>2025-07-07</td>\n",
              "            <td>Ahorro mensual</td>\n",
              "            <td>800</td>\n",
              "            <td>Depósito</td>\n",
              "        </tr>\n",
              "        <tr>\n",
              "            <td>T0005</td>\n",
              "            <td>A2001</td>\n",
              "            <td>2025-07-02</td>\n",
              "            <td>Interés mensual</td>\n",
              "            <td>120</td>\n",
              "            <td>Interés</td>\n",
              "        </tr>\n",
              "        <tr>\n",
              "            <td>T0006</td>\n",
              "            <td>A2001</td>\n",
              "            <td>2025-07-04</td>\n",
              "            <td>Comisión manejo</td>\n",
              "            <td>-45</td>\n",
              "            <td>Comisión</td>\n",
              "        </tr>\n",
              "        <tr>\n",
              "            <td>T0007</td>\n",
              "            <td>A3001</td>\n",
              "            <td>2025-07-10</td>\n",
              "            <td>Pago nómina empleados</td>\n",
              "            <td>-68000</td>\n",
              "            <td>Pago</td>\n",
              "        </tr>\n",
              "        <tr>\n",
              "            <td>T0008</td>\n",
              "            <td>A3001</td>\n",
              "            <td>2025-07-12</td>\n",
              "            <td>Transferencia cliente</td>\n",
              "            <td>95000</td>\n",
              "            <td>Transferencia</td>\n",
              "        </tr>\n",
              "        <tr>\n",
              "            <td>T0009</td>\n",
              "            <td>A1001</td>\n",
              "            <td>2025-07-15</td>\n",
              "            <td>Comisión retiro</td>\n",
              "            <td>-35</td>\n",
              "            <td>Comisión</td>\n",
              "        </tr>\n",
              "        <tr>\n",
              "            <td>T0010</td>\n",
              "            <td>A1002</td>\n",
              "            <td>2025-07-20</td>\n",
              "            <td>Interés mensual</td>\n",
              "            <td>3.5</td>\n",
              "            <td>Interés</td>\n",
              "        </tr>\n",
              "    </tbody>\n",
              "</table>"
            ]
          },
          "metadata": {},
          "execution_count": 28
        }
      ]
    },
    {
      "cell_type": "markdown",
      "source": [
        "### 1. Elimina **solo** las transacciones de la cuenta`A3001` del día **2025-07-12**."
      ],
      "metadata": {
        "id": "LLxwhpuwsiS6"
      },
      "id": "LLxwhpuwsiS6"
    },
    {
      "cell_type": "code",
      "source": [
        "#primero SELECT\n",
        "%%sql\n",
        "select * from transacciones where cuenta_id = 'A3001' and fecha = '2025-07-12';"
      ],
      "metadata": {
        "colab": {
          "base_uri": "https://localhost:8080/",
          "height": 95
        },
        "id": "gqAUENphsoxM",
        "outputId": "17f30adb-c21e-48aa-c1fa-1807e1eac7cf"
      },
      "id": "gqAUENphsoxM",
      "execution_count": null,
      "outputs": [
        {
          "output_type": "stream",
          "name": "stdout",
          "text": [
            " * sqlite:////content/drive/MyDrive/MAESTRIA/Ing_Datos/fintech_databank.db\n",
            "Done.\n"
          ]
        },
        {
          "output_type": "execute_result",
          "data": {
            "text/plain": [
              "[('T0008', 'A3001', '2025-07-12', 'Transferencia cliente', 95000, 'Transferencia')]"
            ],
            "text/html": [
              "<table>\n",
              "    <thead>\n",
              "        <tr>\n",
              "            <th>tx_id</th>\n",
              "            <th>cuenta_id</th>\n",
              "            <th>fecha</th>\n",
              "            <th>concepto</th>\n",
              "            <th>monto</th>\n",
              "            <th>categoria</th>\n",
              "        </tr>\n",
              "    </thead>\n",
              "    <tbody>\n",
              "        <tr>\n",
              "            <td>T0008</td>\n",
              "            <td>A3001</td>\n",
              "            <td>2025-07-12</td>\n",
              "            <td>Transferencia cliente</td>\n",
              "            <td>95000</td>\n",
              "            <td>Transferencia</td>\n",
              "        </tr>\n",
              "    </tbody>\n",
              "</table>"
            ]
          },
          "metadata": {},
          "execution_count": 29
        }
      ]
    },
    {
      "cell_type": "code",
      "source": [
        "#ahora UPDATE\n",
        "%%sql\n",
        "delete from transacciones where cuenta_id = 'A3001' and fecha = '2025-07-12';\n",
        "\"\"\"Como la celda que se elimina corresponde al tx_id \"T0008\" tambien se podría eliminar con:\n",
        "%%sql\n",
        "delete from transacciones where tx_id = 'T0008';\"\"\""
      ],
      "metadata": {
        "colab": {
          "base_uri": "https://localhost:8080/"
        },
        "id": "sj83jRp2s1lH",
        "outputId": "ed6bdf4f-89f1-4e47-b15e-715f7a310f52"
      },
      "id": "sj83jRp2s1lH",
      "execution_count": null,
      "outputs": [
        {
          "output_type": "stream",
          "name": "stdout",
          "text": [
            " * sqlite:////content/drive/MyDrive/MAESTRIA/Ing_Datos/fintech_databank.db\n",
            "1 rows affected.\n",
            "(sqlite3.OperationalError) near \"\"\"\"Como la celda que se elimina corresponde al tx_id \"\": syntax error\n",
            "[SQL: \"\"\"Como la celda que se elimina corresponde al tx_id \"T0008\" tambien se podría eliminar por ahi con:\n",
            "%%sql\n",
            "delete from transacciones where tx_id = 'T0008';\"\"\"]\n",
            "(Background on this error at: https://sqlalche.me/e/20/e3q8)\n"
          ]
        }
      ]
    },
    {
      "cell_type": "markdown",
      "source": [
        "### 2. Elimina la **comisión** de `A2001` del **2025-07-04**.  "
      ],
      "metadata": {
        "id": "hUdiZFcvtGLa"
      },
      "id": "hUdiZFcvtGLa"
    },
    {
      "cell_type": "code",
      "source": [
        "#primero SELECT\n",
        "%%sql\n",
        "select * from transacciones where cuenta_id = 'A2001' and fecha = '2025-07-04' and categoria = 'Comisión';"
      ],
      "metadata": {
        "colab": {
          "base_uri": "https://localhost:8080/",
          "height": 95
        },
        "id": "wVDIXMoStH_P",
        "outputId": "c2be5187-a29c-44c9-d3c8-a7df9cdfb493"
      },
      "id": "wVDIXMoStH_P",
      "execution_count": null,
      "outputs": [
        {
          "output_type": "stream",
          "name": "stdout",
          "text": [
            " * sqlite:////content/drive/MyDrive/MAESTRIA/Ing_Datos/fintech_databank.db\n",
            "Done.\n"
          ]
        },
        {
          "output_type": "execute_result",
          "data": {
            "text/plain": [
              "[('T0006', 'A2001', '2025-07-04', 'Comisión manejo', -45, 'Comisión')]"
            ],
            "text/html": [
              "<table>\n",
              "    <thead>\n",
              "        <tr>\n",
              "            <th>tx_id</th>\n",
              "            <th>cuenta_id</th>\n",
              "            <th>fecha</th>\n",
              "            <th>concepto</th>\n",
              "            <th>monto</th>\n",
              "            <th>categoria</th>\n",
              "        </tr>\n",
              "    </thead>\n",
              "    <tbody>\n",
              "        <tr>\n",
              "            <td>T0006</td>\n",
              "            <td>A2001</td>\n",
              "            <td>2025-07-04</td>\n",
              "            <td>Comisión manejo</td>\n",
              "            <td>-45</td>\n",
              "            <td>Comisión</td>\n",
              "        </tr>\n",
              "    </tbody>\n",
              "</table>"
            ]
          },
          "metadata": {},
          "execution_count": 31
        }
      ]
    },
    {
      "cell_type": "code",
      "source": [
        "#se elimina solo el monto de esa celda, que corresponde a la comisión, al menos eso entendí de la instrucción, eliminar la cantidad de la comisión\n",
        "%%sql\n",
        "update transacciones set monto = 0 where cuenta_id = 'A2001' and fecha = '2025-07-04' and categoria = 'Comisión';"
      ],
      "metadata": {
        "colab": {
          "base_uri": "https://localhost:8080/"
        },
        "id": "NvNp5Or7xOmC",
        "outputId": "3157abaf-d143-4553-bd44-6ed810ec301b"
      },
      "id": "NvNp5Or7xOmC",
      "execution_count": null,
      "outputs": [
        {
          "output_type": "stream",
          "name": "stdout",
          "text": [
            " * sqlite:////content/drive/MyDrive/MAESTRIA/Ing_Datos/fintech_databank.db\n",
            "1 rows affected.\n"
          ]
        },
        {
          "output_type": "execute_result",
          "data": {
            "text/plain": [
              "[]"
            ]
          },
          "metadata": {},
          "execution_count": 32
        }
      ]
    },
    {
      "cell_type": "markdown",
      "source": [
        "###VERIFICACION DE TRANSACCIONES"
      ],
      "metadata": {
        "id": "BUUiHNA5tU1Z"
      },
      "id": "BUUiHNA5tU1Z"
    },
    {
      "cell_type": "code",
      "source": [
        "%%sql\n",
        "select * from transacciones;"
      ],
      "metadata": {
        "colab": {
          "base_uri": "https://localhost:8080/",
          "height": 263
        },
        "id": "um-TqSFwtXCv",
        "outputId": "53238ecd-a327-44d2-eff6-8ee4bbcfaeda"
      },
      "id": "um-TqSFwtXCv",
      "execution_count": null,
      "outputs": [
        {
          "output_type": "stream",
          "name": "stdout",
          "text": [
            " * sqlite:////content/drive/MyDrive/MAESTRIA/Ing_Datos/fintech_databank.db\n",
            "Done.\n"
          ]
        },
        {
          "output_type": "execute_result",
          "data": {
            "text/plain": [
              "[('T0001', 'A1001', '2025-07-01', 'Nómina', 25000, 'Depósito'),\n",
              " ('T0002', 'A1001', '2025-07-03', 'Renta', -12000, 'Pago'),\n",
              " ('T0003', 'A1001', '2025-07-05', 'Super', -2200, 'Pago'),\n",
              " ('T0004', 'A1002', '2025-07-07', 'Ahorro mensual', 800, 'Depósito'),\n",
              " ('T0005', 'A2001', '2025-07-02', 'Interés mensual', 120, 'Interés'),\n",
              " ('T0006', 'A2001', '2025-07-04', 'Comisión manejo', 0, 'Comisión'),\n",
              " ('T0007', 'A3001', '2025-07-10', 'Pago nómina empleados', -68000, 'Pago'),\n",
              " ('T0009', 'A1001', '2025-07-15', 'Comisión retiro', -35, 'Comisión'),\n",
              " ('T0010', 'A1002', '2025-07-20', 'Interés mensual', 3.5, 'Interés')]"
            ],
            "text/html": [
              "<table>\n",
              "    <thead>\n",
              "        <tr>\n",
              "            <th>tx_id</th>\n",
              "            <th>cuenta_id</th>\n",
              "            <th>fecha</th>\n",
              "            <th>concepto</th>\n",
              "            <th>monto</th>\n",
              "            <th>categoria</th>\n",
              "        </tr>\n",
              "    </thead>\n",
              "    <tbody>\n",
              "        <tr>\n",
              "            <td>T0001</td>\n",
              "            <td>A1001</td>\n",
              "            <td>2025-07-01</td>\n",
              "            <td>Nómina</td>\n",
              "            <td>25000</td>\n",
              "            <td>Depósito</td>\n",
              "        </tr>\n",
              "        <tr>\n",
              "            <td>T0002</td>\n",
              "            <td>A1001</td>\n",
              "            <td>2025-07-03</td>\n",
              "            <td>Renta</td>\n",
              "            <td>-12000</td>\n",
              "            <td>Pago</td>\n",
              "        </tr>\n",
              "        <tr>\n",
              "            <td>T0003</td>\n",
              "            <td>A1001</td>\n",
              "            <td>2025-07-05</td>\n",
              "            <td>Super</td>\n",
              "            <td>-2200</td>\n",
              "            <td>Pago</td>\n",
              "        </tr>\n",
              "        <tr>\n",
              "            <td>T0004</td>\n",
              "            <td>A1002</td>\n",
              "            <td>2025-07-07</td>\n",
              "            <td>Ahorro mensual</td>\n",
              "            <td>800</td>\n",
              "            <td>Depósito</td>\n",
              "        </tr>\n",
              "        <tr>\n",
              "            <td>T0005</td>\n",
              "            <td>A2001</td>\n",
              "            <td>2025-07-02</td>\n",
              "            <td>Interés mensual</td>\n",
              "            <td>120</td>\n",
              "            <td>Interés</td>\n",
              "        </tr>\n",
              "        <tr>\n",
              "            <td>T0006</td>\n",
              "            <td>A2001</td>\n",
              "            <td>2025-07-04</td>\n",
              "            <td>Comisión manejo</td>\n",
              "            <td>0</td>\n",
              "            <td>Comisión</td>\n",
              "        </tr>\n",
              "        <tr>\n",
              "            <td>T0007</td>\n",
              "            <td>A3001</td>\n",
              "            <td>2025-07-10</td>\n",
              "            <td>Pago nómina empleados</td>\n",
              "            <td>-68000</td>\n",
              "            <td>Pago</td>\n",
              "        </tr>\n",
              "        <tr>\n",
              "            <td>T0009</td>\n",
              "            <td>A1001</td>\n",
              "            <td>2025-07-15</td>\n",
              "            <td>Comisión retiro</td>\n",
              "            <td>-35</td>\n",
              "            <td>Comisión</td>\n",
              "        </tr>\n",
              "        <tr>\n",
              "            <td>T0010</td>\n",
              "            <td>A1002</td>\n",
              "            <td>2025-07-20</td>\n",
              "            <td>Interés mensual</td>\n",
              "            <td>3.5</td>\n",
              "            <td>Interés</td>\n",
              "        </tr>\n",
              "    </tbody>\n",
              "</table>"
            ]
          },
          "metadata": {},
          "execution_count": 33
        }
      ]
    }
  ],
  "metadata": {
    "colab": {
      "provenance": [],
      "collapsed_sections": [
        "9c511d75",
        "86bae955",
        "2c84938e",
        "Y4DN3YeMei-k",
        "ARWlPxkNemEZ",
        "691e3b1e",
        "_CTrvP2GfoHI",
        "I6wyQU0if9V1",
        "7igdDjlWgSD3",
        "1ffda706",
        "hWzDSUD6hJ2z",
        "V5YO8gc5kDRI",
        "cEaQbe4ahP_x",
        "nPLz-in0hlxT",
        "pDs098y5iNS_",
        "44ba4398",
        "DAzm5QzPkoIU",
        "894dd9a1",
        "ZgMfbnSvmVXa",
        "1tnWXWjfmks1",
        "vrnWe1HuqMpT",
        "VLT1jX3irbJ4",
        "e7c55d03",
        "PkbkJx06sYKo",
        "LLxwhpuwsiS6",
        "hUdiZFcvtGLa",
        "BUUiHNA5tU1Z"
      ]
    },
    "language_info": {
      "name": "python"
    },
    "kernelspec": {
      "name": "python3",
      "display_name": "Python 3"
    }
  },
  "nbformat": 4,
  "nbformat_minor": 5
}